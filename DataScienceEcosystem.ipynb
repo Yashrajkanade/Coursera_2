{
 "cells": [
  {
   "cell_type": "markdown",
   "id": "4946c549",
   "metadata": {},
   "source": [
    "# Data Science Tools and Ecosystem"
   ]
  },
  {
   "cell_type": "markdown",
   "id": "25b432d3",
   "metadata": {},
   "source": [
    "In this notebook, Data Science Tools and Ecosystem are summarized"
   ]
  },
  {
   "cell_type": "markdown",
   "id": "b3c5777c",
   "metadata": {},
   "source": [
    "**Objectives:**\n",
    "- List the popular languages in Data Science\n",
    "- List the most commonly used libraries in Data Science\n",
    "- In a table list the Data Science environment\n",
    "- List some basic arithmetic operations\n",
    "- Evaluate some arithmetic expression"
   ]
  },
  {
   "cell_type": "markdown",
   "id": "4b1afec7",
   "metadata": {},
   "source": [
    "Some of the popular languages that Data Scientist use are:\n",
    "1. Python \n",
    "2. R\n",
    "3. SQL\n",
    "4. Java\n",
    "5. C++\n",
    "6. Ruby"
   ]
  },
  {
   "cell_type": "markdown",
   "id": "dd0487ca",
   "metadata": {},
   "source": [
    "Some of the commonly used libraries used by Data Scientist include:\n",
    "1. pandas\n",
    "2. numpy\n",
    "3. matplotlib\n",
    "4. seaborn\n",
    "5. scikit"
   ]
  },
  {
   "cell_type": "markdown",
   "id": "d2b189c5",
   "metadata": {},
   "source": [
    "|Data Science Tools|\n",
    "|------------------|\n",
    "|Jupyter Lab |\n",
    "|R Studio |\n",
    "|Spyder |"
   ]
  },
  {
   "cell_type": "markdown",
   "id": "db3357a0",
   "metadata": {},
   "source": [
    "### Below are a few examples of evaluating arithmetic expressions in Python\n",
    "2+3\n"
   ]
  },
  {
   "cell_type": "code",
   "execution_count": 1,
   "id": "3f00219f",
   "metadata": {},
   "outputs": [
    {
     "data": {
      "text/plain": [
       "17"
      ]
     },
     "execution_count": 1,
     "metadata": {},
     "output_type": "execute_result"
    }
   ],
   "source": [
    "#This a simple arithmetic expression to mutiply then add integers\n",
    "(3*4)+5"
   ]
  },
  {
   "cell_type": "code",
   "execution_count": 2,
   "id": "84217dc5",
   "metadata": {},
   "outputs": [
    {
     "data": {
      "text/plain": [
       "3.3333333333333335"
      ]
     },
     "execution_count": 2,
     "metadata": {},
     "output_type": "execute_result"
    }
   ],
   "source": [
    "#This will convert 200 minutes to hours by diving by 60\n",
    "200/60"
   ]
  },
  {
   "cell_type": "markdown",
   "id": "c62f64bb",
   "metadata": {},
   "source": [
    "## Author\n",
    "Yashraj Kanade"
   ]
  },
  {
   "cell_type": "code",
   "execution_count": null,
   "id": "68e8e754",
   "metadata": {},
   "outputs": [],
   "source": []
  }
 ],
 "metadata": {
  "kernelspec": {
   "display_name": "Python 3 (ipykernel)",
   "language": "python",
   "name": "python3"
  },
  "language_info": {
   "codemirror_mode": {
    "name": "ipython",
    "version": 3
   },
   "file_extension": ".py",
   "mimetype": "text/x-python",
   "name": "python",
   "nbconvert_exporter": "python",
   "pygments_lexer": "ipython3",
   "version": "3.9.13"
  }
 },
 "nbformat": 4,
 "nbformat_minor": 5
}
